{
 "cells": [
  {
   "cell_type": "code",
   "execution_count": 2,
   "metadata": {},
   "outputs": [],
   "source": [
    "import numpy as np\n",
    "import matplotlib.pyplot as plt"
   ]
  },
  {
   "cell_type": "code",
   "execution_count": 32,
   "metadata": {},
   "outputs": [],
   "source": [
    "# 多变量的线性回归?\n",
    "# 根据题目要求可以知道数据中的变量含义依次是房子的大小,房子的卧室数目,房子的价格\n",
    "def loadData(path):\n",
    "    ret_data=None\n",
    "    with open(path) as f:\n",
    "        contents=f.read()\n",
    "        datas=[]\n",
    "        for line in contents.split('\\n'):\n",
    "            if len(line)<1:\n",
    "                break\n",
    "            line_data=[]\n",
    "            for data in line.split(','):\n",
    "                line_data.append(float(eval(data)))\n",
    "                pass\n",
    "            datas.append(line_data)\n",
    "            pass\n",
    "        ret_data=np.array(datas)\n",
    "    return ret_data[:,np.arange(2)],ret_data[:,2]\n",
    "\n",
    "# 数据预处理,进行数据归一化处理\n",
    "def pre_op_data(x):\n",
    "    hSize=x[:,0]\n",
    "    hCnt=x[:,1]\n",
    "    Op_hSize=(hSize-np.mean(hSize))/(np.max(hSize)-np.min(hSize))\n",
    "    Op_hCnt=(hCnt-np.mean(hCnt))/(np.max(hCnt)-np.min(hCnt))\n",
    "    x0=np.zeros_like(Op_hCnt)+1\n",
    "    return np.column_stack([x0,Op_hSize,Op_hCnt])"
   ]
  },
  {
   "cell_type": "code",
   "execution_count": 43,
   "metadata": {},
   "outputs": [],
   "source": [
    "# 给定一个或者一组x和参数theta,求出我们预测出来的房价\n",
    "def predict_Func(varX,theta):\n",
    "    return np.dot(varX,theta)\n",
    "\n",
    "# 对应的代价函数\n",
    "def Cost_Func(varX,theta,t):\n",
    "    batch_size=t.shape[0]\n",
    "    pre_y=predict_Func(varX,theta)\n",
    "    return np.sum((pre_y-t)**2)/(batch_size*2)\n",
    "\n",
    "# 用来实现梯度下降的式子中,学习率右侧的乘数\n",
    "# 我们得到的数据量m=47\n",
    "# 这里中间得到的diff,其大小为(47,1),自变量x的大小为(47,3)\n",
    "# 我们想要得到的\\theta-\\alpha*(d \\theta)\n",
    "# 最开始我认为的是要通过diff的每行的一个数字,乘以对应的自变量x的每行的数字,然后得到的(47,3)的矩阵再按列相加\n",
    "# 但是通过矩阵点乘可以直接完成!\n",
    "def dCost_dtheta(varX,theta,t):\n",
    "    batch_size=t.shape[0]\n",
    "    diff=predict_Func(varX,theta)-t\n",
    "    tmp_ret=np.dot(diff,varX)\n",
    "    return tmp_ret/batch_size"
   ]
  },
  {
   "cell_type": "code",
   "execution_count": 78,
   "metadata": {},
   "outputs": [],
   "source": [
    "# 梯度下降\n",
    "def gradient_descent(theta,x,t,alpha,maxIterCnt,delta=1e-6):\n",
    "    history_cost=[]\n",
    "    for cntIter in range(maxIterCnt):\n",
    "        theta=theta-alpha*dCost_dtheta(x,theta,t)\n",
    "        \n",
    "        cost=Cost_Func(x,theta,t)\n",
    "        history_cost.append(cost)\n",
    "    \n",
    "        if cntIter%100==50 and abs(history_cost[-1]-history_cost[-2])<delta:\n",
    "            break # 达到想要的精度,确定整体收敛之后可以及时终止\n",
    "    return theta,np.array(history_cost),cntIter"
   ]
  },
  {
   "cell_type": "code",
   "execution_count": 79,
   "metadata": {},
   "outputs": [],
   "source": [
    "getData,t=loadData('ex1data2.txt')\n",
    "X_op=pre_op_data(getData)\n",
    "Size=X_op[:,1]\n",
    "Bedroom=X_op[:,2]"
   ]
  },
  {
   "cell_type": "code",
   "execution_count": 101,
   "metadata": {},
   "outputs": [
    {
     "name": "stdout",
     "output_type": "stream",
     "text": [
      "[340412.65957447 504777.81607438 -34951.96346041]\n"
     ]
    }
   ],
   "source": [
    "initTheta=np.zeros(3)\n",
    "maxIter=10000\n",
    "final_theta,costs,maxIter=gradient_descent(initTheta,X_op,t,0.2,maxIter)\n",
    "print(final_theta)"
   ]
  },
  {
   "cell_type": "code",
   "execution_count": 102,
   "metadata": {},
   "outputs": [
    {
     "data": {
      "text/plain": [
       "[<matplotlib.lines.Line2D at 0x26d6a6d3348>]"
      ]
     },
     "execution_count": 102,
     "metadata": {},
     "output_type": "execute_result"
    },
    {
     "data": {
      "image/png": "[encoded data removed]",
      "text/plain": [
       "<Figure size 432x288 with 1 Axes>"
      ]
     },
     "metadata": {
      "needs_background": "light"
     },
     "output_type": "display_data"
    }
   ],
   "source": [
    "y=predict_Func(X_op,final_theta)\n",
    "show_var=Size\n",
    "plt.scatter(show_var,t)\n",
    "plt.plot(show_var,y)"
   ]
  },
  {
   "cell_type": "code",
   "execution_count": 103,
   "metadata": {},
   "outputs": [
    {
     "data": {
      "text/plain": [
       "[<matplotlib.lines.Line2D at 0x26d6bc5a0c8>]"
      ]
     },
     "execution_count": 103,
     "metadata": {},
     "output_type": "execute_result"
    },
    {
     "data": {
      "image/png": "[encoded data removed]",
      "text/plain": [
       "<Figure size 432x288 with 1 Axes>"
      ]
     },
     "metadata": {
      "needs_background": "light"
     },
     "output_type": "display_data"
    }
   ],
   "source": [
    "iters=np.arange(maxIter+1)\n",
    "plt.plot(iters,costs)"
   ]
  },
  {
   "cell_type": "code",
   "execution_count": 104,
   "metadata": {},
   "outputs": [
    {
     "name": "stdout",
     "output_type": "stream",
     "text": [
      "2043280050.6030092\n",
      "2043280050.6030102\n"
     ]
    }
   ],
   "source": [
    "print(costs[-1])\n",
    "print(costs[-2])"
   ]
  }
 ],
 "metadata": {
  "kernelspec": {
   "display_name": "Python 3",
   "language": "python",
   "name": "python3"
  },
  "language_info": {
   "codemirror_mode": {
    "name": "ipython",
    "version": 3
   },
   "file_extension": ".py",
   "mimetype": "text/x-python",
   "name": "python",
   "nbconvert_exporter": "python",
   "pygments_lexer": "ipython3",
   "version": "3.7.4"
  }
 },
 "nbformat": 4,
 "nbformat_minor": 2
}
