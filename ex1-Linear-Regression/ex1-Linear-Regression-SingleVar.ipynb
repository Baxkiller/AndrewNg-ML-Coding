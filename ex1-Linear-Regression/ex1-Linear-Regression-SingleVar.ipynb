{
 "cells": [
  {
   "cell_type": "code",
   "execution_count": 121,
   "metadata": {},
   "outputs": [],
   "source": [
    "import numpy as np\n",
    "import matplotlib.pyplot as plt"
   ]
  },
  {
   "cell_type": "code",
   "execution_count": 137,
   "metadata": {},
   "outputs": [],
   "source": [
    "def Func_theta(x,theta):\n",
    "    return theta[0]*x[:,0]+theta[1]*x[:,1]\n",
    "\n",
    "def CostFunction(theta,x,t):\n",
    "    y=Func_theta(x,theta)\n",
    "    return np.sum((y-t)**2)\n",
    "\n",
    "def dCostFunction(theta,x,t):\n",
    "    batch_size=t.shape[0]\n",
    "    tmp_mat=np.dot(x,theta)-t  # 大小为97的向量\n",
    "    tmp_sum=np.dot(tmp_mat,x)/batch_size\n",
    "    return tmp_sum\n",
    "\n",
    "def gradient_descent(theta,x,t,alpha,maxIters):\n",
    "    history_cost=[]\n",
    "    delta=1e-9\n",
    "    for iter_idx in range(maxIters):\n",
    "        theta_before=theta\n",
    "        theta=theta-alpha*dCostFunction(theta,x,t)\n",
    "        cost=CostFunction(theta,x,t)\n",
    "        history_cost.append(cost)\n",
    "    \n",
    "    return theta,np.array(history_cost)"
   ]
  },
  {
   "cell_type": "code",
   "execution_count": 124,
   "metadata": {},
   "outputs": [],
   "source": [
    "def get_data(fileName):\n",
    "    inData=None\n",
    "    with open(file=fileName) as f:\n",
    "        contents=f.read()\n",
    "        data=[]\n",
    "        for line in contents.split('\\n'):\n",
    "            t=[]\n",
    "            for d in line.split(','):\n",
    "                if len(d)>=1:\n",
    "                    t.append(float(eval(d)))\n",
    "                else:\n",
    "                    break\n",
    "            if len(t)==2:\n",
    "                data.append(t)\n",
    "        inData=data\n",
    "    return np.array(inData)"
   ]
  },
  {
   "cell_type": "code",
   "execution_count": 125,
   "metadata": {
    "scrolled": true
   },
   "outputs": [],
   "source": [
    "datas=get_data('ex1data1.txt')\n",
    "x=datas[:,0]\n",
    "ones=np.zeros_like(x)+1\n",
    "x=np.column_stack([ones,x])\n",
    "\n",
    "t=datas[:,1]"
   ]
  },
  {
   "cell_type": "code",
   "execution_count": 126,
   "metadata": {
    "scrolled": true
   },
   "outputs": [
    {
     "name": "stdout",
     "output_type": "stream",
     "text": [
      "[0. 0.]\n"
     ]
    }
   ],
   "source": [
    "init_theta=np.zeros(2)\n",
    "print(init_theta)"
   ]
  },
  {
   "cell_type": "code",
   "execution_count": 140,
   "metadata": {},
   "outputs": [
    {
     "data": {
      "text/plain": [
       "[<matplotlib.lines.Line2D at 0x1deddf60b88>]"
      ]
     },
     "execution_count": 140,
     "metadata": {},
     "output_type": "execute_result"
    },
    {
     "data": {
      "image/png": "[encoded data removed]",
      "text/plain": [
       "<Figure size 432x288 with 1 Axes>"
      ]
     },
     "metadata": {
      "needs_background": "light"
     },
     "output_type": "display_data"
    }
   ],
   "source": [
    "cnt_iter=10000\n",
    "final_theta,cost=gradient_descent(theta=init_theta,x=x,t=t,alpha=0.01,maxIters=cnt_iter)\n",
    "plt.plot(np.arange(cnt_iter),cost)"
   ]
  },
  {
   "cell_type": "code",
   "execution_count": 144,
   "metadata": {},
   "outputs": [
    {
     "data": {
      "image/png": "[encoded data removed]",
      "text/plain": [
       "<Figure size 432x288 with 1 Axes>"
      ]
     },
     "metadata": {
      "needs_background": "light"
     },
     "output_type": "display_data"
    },
    {
     "name": "stdout",
     "output_type": "stream",
     "text": [
      "Final theta is :  [-3.89578082  1.19303364]\n"
     ]
    }
   ],
   "source": [
    "plt.plot(x[:,1],t,'.')\n",
    "y=Func_theta(x,final_theta)\n",
    "plt.plot(x[:,1],y)\n",
    "plt.show()\n",
    "print(\"Final theta is : \",final_theta)"
   ]
  }
 ],
 "metadata": {
  "kernelspec": {
   "display_name": "Python 3",
   "language": "python",
   "name": "python3"
  },
  "language_info": {
   "codemirror_mode": {
    "name": "ipython",
    "version": 3
   },
   "file_extension": ".py",
   "mimetype": "text/x-python",
   "name": "python",
   "nbconvert_exporter": "python",
   "pygments_lexer": "ipython3",
   "version": "3.7.4"
  }
 },
 "nbformat": 4,
 "nbformat_minor": 2
}
